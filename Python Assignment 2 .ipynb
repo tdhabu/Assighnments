{
 "cells": [
  {
   "cell_type": "code",
   "execution_count": null,
   "metadata": {},
   "outputs": [],
   "source": [
    "# First Task \n",
    "n=5;\n",
    "for i in range(n):\n",
    "    for j in range(i):\n",
    "        print('*',end='')\n",
    "    print('')\n",
    "        \n",
    "for i in range(n,0,-1):\n",
    "    for j in range(i):\n",
    "        print('*',end='')\n",
    "    print('')"
   ]
  },
  {
   "cell_type": "code",
   "execution_count": null,
   "metadata": {},
   "outputs": [],
   "source": []
  },
  {
   "cell_type": "code",
   "execution_count": 10,
   "metadata": {},
   "outputs": [
    {
     "name": "stdout",
     "output_type": "stream",
     "text": [
      "Enter a word to reverse:we\n",
      "ew\n"
     ]
    }
   ],
   "source": [
    "# second task \n",
    "user_input=input(\"Enter a word to reverse:\")\n",
    "\n",
    "# By slicing \n",
    "print(user_input[::-1])"
   ]
  },
  {
   "cell_type": "code",
   "execution_count": 11,
   "metadata": {},
   "outputs": [
    {
     "name": "stdout",
     "output_type": "stream",
     "text": [
      "ew\n",
      "\n"
     ]
    }
   ],
   "source": [
    "# Second method \n",
    "for char in range(len(user_input) - 1,-1,-1):\n",
    "    print(user_input[char], end=\"\")\n",
    "print(\"\\n\")"
   ]
  },
  {
   "cell_type": "code",
   "execution_count": 19,
   "metadata": {},
   "outputs": [
    {
     "name": "stdout",
     "output_type": "stream",
     "text": [
      "Tell me a word of your choice: ineuron\n",
      "norueni\n"
     ]
    }
   ],
   "source": [
    "# Third method \n",
    "input_word = input('Tell me a word of your choice: ')\n",
    "rev_word = \"\"\n",
    "for i in range(len(input_word)):\n",
    "    rev_word += input_word[len(input_word)-1-i]\n",
    "print(rev_word)"
   ]
  },
  {
   "cell_type": "code",
   "execution_count": null,
   "metadata": {},
   "outputs": [],
   "source": []
  }
 ],
 "metadata": {
  "kernelspec": {
   "display_name": "Python 3",
   "language": "python",
   "name": "python3"
  },
  "language_info": {
   "codemirror_mode": {
    "name": "ipython",
    "version": 3
   },
   "file_extension": ".py",
   "mimetype": "text/x-python",
   "name": "python",
   "nbconvert_exporter": "python",
   "pygments_lexer": "ipython3",
   "version": "3.7.1"
  }
 },
 "nbformat": 4,
 "nbformat_minor": 2
}
